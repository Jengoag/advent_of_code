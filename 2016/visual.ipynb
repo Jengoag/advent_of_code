{
 "cells": [
  {
   "cell_type": "code",
   "execution_count": null,
   "source": [
    "route = [\"R5, L5, R5, R3\"]\n",
    "\n",
    "dx = []\n",
    "dy = []\n",
    "\n",
    "for x in range(0,len(route)):\n",
    "    if x%2 == 0:\n",
    "        dx.append(route[x])\n",
    "    if x%2 != 0:\n",
    "        dy.append(route[x])\n",
    "\n",
    "\n",
    "print(dx)\n",
    "print(dy)"
   ],
   "outputs": [],
   "metadata": {}
  },
  {
   "cell_type": "code",
   "execution_count": null,
   "source": [
    "\n",
    "\n",
    "plt.title('MyPlot')\n",
    "plt.xlabel('X Axis')\n",
    "plt.ylabel('Y Axis')\n",
    "\n",
    "plt.plot(x,y)\n",
    "plt.grid()\n",
    "plt.show()"
   ],
   "outputs": [],
   "metadata": {}
  }
 ],
 "metadata": {
  "orig_nbformat": 4,
  "language_info": {
   "name": "python",
   "version": "3.9.7",
   "mimetype": "text/x-python",
   "codemirror_mode": {
    "name": "ipython",
    "version": 3
   },
   "pygments_lexer": "ipython3",
   "nbconvert_exporter": "python",
   "file_extension": ".py"
  },
  "kernelspec": {
   "name": "python3",
   "display_name": "Python 3.9.7 64-bit ('core': conda)"
  },
  "interpreter": {
   "hash": "f3286ea705001ec0bb3381152b489620b95b108b2c9769628ed9388c599911a5"
  }
 },
 "nbformat": 4,
 "nbformat_minor": 2
}